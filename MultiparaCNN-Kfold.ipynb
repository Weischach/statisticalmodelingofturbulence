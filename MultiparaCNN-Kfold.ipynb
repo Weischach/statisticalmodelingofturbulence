{
 "cells": [
  {
   "cell_type": "markdown",
   "metadata": {},
   "source": [
    
   ]
  },
  {
   "cell_type": "code",
   "execution_count": 1,
   "metadata": {},
   "outputs": [],
   "source": [
    "# IMPORTING LIBRARIES REQUIRED FOR THIS CODE\n",
    "import sys\n",
    "import numpy as np\n",
    "from scipy.stats import randint\n",
    "import scipy.io as sio\n",
    "import pandas as pd\n",
    "import matplotlib.pyplot as plt\n",
    "# import seaborn as sns\n",
    "from sklearn.model_selection import train_test_split\n",
    "# from sklearn.cross_validation import KFold\n",
    "from sklearn.preprocessing import MinMaxScaler\n",
    "from sklearn.preprocessing import StandardScaler\n",
    "# from sklearn.pipeline import pipeline\n",
    "from sklearn.model_selection import cross_val_score\n",
    "from sklearn.feature_selection import SelectFromModel\n",
    "from sklearn import metrics\n",
    "from sklearn.metrics import mean_squared_error\n",
    "from sklearn.model_selection import KFold\n",
    "from sklearn.model_selection import train_test_split"
   ]
  },
  {
   "cell_type": "code",
   "execution_count": 2,
   "metadata": {},
   "outputs": [],
   "source": [
    "#from keras.processing import sequence\n",
    "import tensorflow.keras.backend as K\n",
    "import tensorflow as tf\n",
    "from tensorflow.keras.layers import Dense\n",
    "from tensorflow.keras.layers import Activation\n",
    "from tensorflow.keras.layers import Dropout\n",
    "from tensorflow.keras.layers import Flatten\n",
    "#from keras.layers import embedding\n",
    "from tensorflow.keras.models  import Sequential\n",
    "from tensorflow.keras.utils import to_categorical\n",
    "from tensorflow.keras.optimizers import SGD \n",
    "from tensorflow.keras.callbacks import EarlyStopping\n",
    "#from keras.utils import np_utils\n",
    "import itertools\n",
    "from tensorflow.keras.layers import LSTM\n",
    "from tensorflow.keras.layers import Conv1D\n",
    "from tensorflow.keras.layers import MaxPooling1D"
   ]
  },
  {
   "cell_type": "code",
   "execution_count": 3,
   "metadata": {},
   "outputs": [],
   "source": [
    "# loading input and output file\n",
    "# the loaded filecontaints 500 x 5 points at input\n",
    "# to list - frequency points and the corresponding autospectra\n",
    "dfin = sio.loadmat('5paracnn5crawdisjointlogspacefreq.mat')['infile']\n",
    "dfout = sio.loadmat('5paracnn5crawdisjointlogspacefreq.mat')['outfile']"
   ]
  },
  {
   "cell_type": "code",
   "execution_count": 4,
   "metadata": {
    "scrolled": true
   },
   "outputs": [],
   "source": [
    "\n",
    "Shuffling the datasets to vary the splits used for cross-validation\n",
    "ind = np.random.RandomState(22).permutation(range(len(dfin)))\n",
    "\n",
    "# split into input and outputs\n",
    "dfin = dfin[ind][:][:]\n",
    "dfout = dfout[ind][:][:]\n",
    " "
   ]
  },
  {
   "cell_type": "code",
   "execution_count": 5,
   "metadata": {},
   "outputs": [],
   "source": [
    "# loss function with error for parameter alpha\n",
    "def pwwloss(y_act, y_pred):\n",
    "    a = [0.3734, 0.1996, 0.1224]\n",
    "    a1 = K.abs(0.3734*y_act[0] + 0.1996*y_act[1] + 0.1224*y_act[2] - 0.3734*y_pred[0] - 0.1996*y_pred[1] - 0.1224*y_pred[2])\n",
    "    print(a1)\n",
    "    b1 = K.sum(K.abs(y_act - y_pred))\n",
    "    print(b1)\n",
    "    return a1 + b1"
   ]
  },
  {
   "cell_type": "code",
   "execution_count": 6,
   "metadata": {},
   "outputs": [],
   "source": [
    "# Loss  function with higher weightage for error in time constant\n",
    "def pTTl(y_act, y_pred):\n",
    "    a = [0.3734, 0.1996, 0.1224]\n",
    "    a1 = K.abs(0.9*y_act[0] + 0.9*y_act[1] + 0.9*y_act[2] - 0.9*y_pred[0] - 0.9*y_pred[1] - 0.9*y_pred[2])\n",
    "    print(a1)\n",
    "    b1 = K.sum(K.abs(y_act - y_pred))\n",
    "    print(b1)\n",
    "    return -a1 + b1"
   ]
  },
  {
   "cell_type": "code",
   "execution_count": 7,
   "metadata": {},
   "outputs": [],
   "source": [
    "nk = 0\n",
    "n = str(nk)"
   ]
  },
  
   "source": [
    "# Appropriate loss dunction can be slected for training. \n",
    "\n",
    "for train_index, test_index in KFold(n_splits=5).split(dfin):\n",
    "    train_X, test_X = dfin[train_index][:][:], dfin[test_index][:][:]\n",
    "    train_y, test_y = dfout[train_index][:][:], dfout[test_index][:][:]\n",
    "    print(train_X.shape, train_y.shape, test_X.shape, test_y.shape)\n",
    "    \n",
    "    best_stop = [\n",
    "    tf.keras.callbacks.EarlyStopping(patience=100, monitor = 'val_loss', verbose = 1),\n",
    "    tf.keras.callbacks.ModelCheckpoint(filepath='models/best_apt_model' + n + '.h5', save_best_only = True),\n",
    "    tf.keras.callbacks.TensorBoard(log_dir='./logs')\n",
    "    ]\n",
    "    \n",
    "    model = Sequential()\n",
    "    model.add(Conv1D(filters =64, kernel_size =9, activation = 'sigmoid', input_shape=(500,5)))\n",
    "    model.add(MaxPooling1D(pool_size=10,strides=10))\n",
    "    model.add(Dropout(0.5))\n",
    "    \n",
    "    \n",
    "    model.add(Flatten())\n",
    "    model.add(Dense(4))\n",
    "    epochs = 3000\n",
    "    batch_size = 10\n",
    "    model.compile(loss = 'mean_squared_error', optimizer = 'adam')\n",
    "    print(model.summary())\n",
    "    \n",
    "    \n",
    "    pww = model.fit(train_X, train_y, epochs=epochs, batch_size=batch_size, validation_data = (test_X,test_y), shuffle = 'False', callbacks = best_stop)\n",
    "    model.load_weights('models/best_apt_model'+n+'.h5')\n",
    "    yhat = model .predict(test_X)\n",
    "    testset = ind[test_index]\n",
    "    sio.savemat('Saved_outfiles/22-kf-20-2kTlosscnn'+n+'.mat',{'yhat':yhat, 'test_y' :test_y, 'testset' :testset})\n",
    "    nk = nk+1\n",
    "    n = str(nk)"
   ]
  },
  {
   "cell_type": "code",
   "execution_count": null,
   "metadata": {},
   "outputs": [],
   "source": []
  },
  {
   "cell_type": "code",
   "execution_count": null,
   "metadata": {},
   "outputs": [],
   "source": []
  },
  {
   "cell_type": "code",
   "execution_count": null,
   "metadata": {},
   "outputs": [],
   "source": []
  },
  {
   "cell_type": "code",
   "execution_count": null,
   "metadata": {
    "scrolled": true
   },
   "outputs": [],
   "source": []
  },
  {
   "cell_type": "code",
   "execution_count": null,
   "metadata": {},
   "outputs": [],
   "source": []
  }
 ],
 "metadata": {
  "kernelspec": {
   "display_name": "vk-python",
   "language": "python",
   "name": "vkpython"
  },
  "language_info": {
   "codemirror_mode": {
    "name": "ipython",
    "version": 3
   },
   "file_extension": ".py",
   "mimetype": "text/x-python",
   "name": "python",
   "nbconvert_exporter": "python",
   "pygments_lexer": "ipython3",
   "version": "3.8.5"
  }
 },
 "nbformat": 4,
 "nbformat_minor": 4
}
